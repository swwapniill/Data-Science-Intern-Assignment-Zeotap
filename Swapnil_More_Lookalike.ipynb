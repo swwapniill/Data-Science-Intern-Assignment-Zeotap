{
 "cells": [
  {
   "cell_type": "code",
   "execution_count": 6,
   "id": "5a802ceb-a3a9-4352-a536-0b2e2f40eb86",
   "metadata": {},
   "outputs": [
    {
     "name": "stdout",
     "output_type": "stream",
     "text": [
      "  CustomerID        CustomerName         Region  SignupDate\n",
      "0      C0001    Lawrence Carroll  South America  2022-07-10\n",
      "1      C0002      Elizabeth Lutz           Asia  2022-02-13\n",
      "2      C0003      Michael Rivera  South America  2024-03-07\n",
      "3      C0004  Kathleen Rodriguez  South America  2022-10-09\n",
      "4      C0005         Laura Weber           Asia  2022-08-15\n",
      "  TransactionID CustomerID ProductID      TransactionDate  Quantity  \\\n",
      "0        T00001      C0199      P067  2024-08-25 12:38:23         1   \n",
      "1        T00112      C0146      P067  2024-05-27 22:23:54         1   \n",
      "2        T00166      C0127      P067  2024-04-25 07:38:55         1   \n",
      "3        T00272      C0087      P067  2024-03-26 22:55:37         2   \n",
      "4        T00363      C0070      P067  2024-03-21 15:10:10         3   \n",
      "\n",
      "   TotalValue   Price  \n",
      "0      300.68  300.68  \n",
      "1      300.68  300.68  \n",
      "2      300.68  300.68  \n",
      "3      601.36  300.68  \n",
      "4      902.04  300.68  \n",
      "  ProductID              ProductName     Category   Price\n",
      "0      P001     ActiveWear Biography        Books  169.30\n",
      "1      P002    ActiveWear Smartwatch  Electronics  346.30\n",
      "2      P003  ComfortLiving Biography        Books   44.12\n",
      "3      P004            BookWorld Rug   Home Decor   95.69\n",
      "4      P005          TechPro T-Shirt     Clothing  429.31\n"
     ]
    }
   ],
   "source": [
    "import pandas as pd\n",
    "\n",
    "# Load datasets\n",
    "customers = pd.read_csv(\"Customers.csv\")\n",
    "transactions = pd.read_csv(\"Transactions.csv\")\n",
    "products = pd.read_csv(\"Products.csv\")\n",
    "\n",
    "# Preview the data\n",
    "print(customers.head())\n",
    "print(transactions.head())\n",
    "print(products.head())\n"
   ]
  },
  {
   "cell_type": "code",
   "execution_count": 7,
   "id": "f91e8e69-1dc9-40e4-9b3e-6808e6f0999d",
   "metadata": {},
   "outputs": [],
   "source": [
    "customers = pd.read_csv(\"Customers.csv\")\n",
    "transactions = pd.read_csv(\"Transactions.csv\")\n",
    "products = pd.read_csv(\"Products.csv\")\n"
   ]
  },
  {
   "cell_type": "code",
   "execution_count": 8,
   "id": "f40ee2c4-8ed7-456f-8546-4a7163dabdb9",
   "metadata": {},
   "outputs": [
    {
     "name": "stdout",
     "output_type": "stream",
     "text": [
      "  CustomerID        CustomerName         Region  SignupDate  TotalSpending  \\\n",
      "0      C0001    Lawrence Carroll  South America  2022-07-10        3354.52   \n",
      "1      C0002      Elizabeth Lutz           Asia  2022-02-13        1862.74   \n",
      "2      C0003      Michael Rivera  South America  2024-03-07        2725.38   \n",
      "3      C0004  Kathleen Rodriguez  South America  2022-10-09        5354.88   \n",
      "4      C0005         Laura Weber           Asia  2022-08-15        2034.24   \n",
      "\n",
      "   TransactionCount  \n",
      "0               5.0  \n",
      "1               4.0  \n",
      "2               4.0  \n",
      "3               8.0  \n",
      "4               3.0  \n"
     ]
    }
   ],
   "source": [
    "#  Aggregate Transaction Data and Create customer_profile\n",
    "# Total spending and product counts for each customer\n",
    "customer_spending = transactions.groupby('CustomerID').agg({\n",
    "    'TotalValue': 'sum',  # Total spending\n",
    "    'TransactionID': 'count'  # Number of transactions\n",
    "}).rename(columns={'TotalValue': 'TotalSpending', 'TransactionID': 'TransactionCount'})\n",
    "\n",
    "# Merge with customer profile data\n",
    "customer_profile = pd.merge(customers, customer_spending, on='CustomerID', how='left')\n",
    "\n",
    "# Fill missing values for customers with no transactions\n",
    "customer_profile['TotalSpending'] = customer_profile['TotalSpending'].fillna(0)\n",
    "customer_profile['TransactionCount'] = customer_profile['TransactionCount'].fillna(0)\n",
    "\n",
    "print(customer_profile.head())\n"
   ]
  },
  {
   "cell_type": "code",
   "execution_count": 10,
   "id": "dc767c31-21bf-499c-b678-172b2560fa36",
   "metadata": {},
   "outputs": [
    {
     "name": "stdout",
     "output_type": "stream",
     "text": [
      "  CustomerID        CustomerName         Region  SignupDate  TotalSpending  \\\n",
      "0      C0001    Lawrence Carroll  South America  2022-07-10       0.314274   \n",
      "1      C0002      Elizabeth Lutz           Asia  2022-02-13       0.174514   \n",
      "2      C0003      Michael Rivera  South America  2024-03-07       0.255332   \n",
      "3      C0004  Kathleen Rodriguez  South America  2022-10-09       0.501681   \n",
      "4      C0005         Laura Weber           Asia  2022-08-15       0.190581   \n",
      "\n",
      "   TransactionCount  \n",
      "0          0.454545  \n",
      "1          0.363636  \n",
      "2          0.363636  \n",
      "3          0.727273  \n",
      "4          0.272727  \n"
     ]
    }
   ],
   "source": [
    "#Normalization\n",
    "from sklearn.preprocessing import MinMaxScaler\n",
    "\n",
    "# Select numeric features for similarity\n",
    "features = ['TotalSpending', 'TransactionCount']\n",
    "scaler = MinMaxScaler()\n",
    "customer_profile[features] = scaler.fit_transform(customer_profile[features])\n",
    "\n",
    "print(customer_profile.head())\n"
   ]
  },
  {
   "cell_type": "code",
   "execution_count": 11,
   "id": "968c5558-63d4-4dea-90b4-17fcb0d46c87",
   "metadata": {},
   "outputs": [
    {
     "name": "stdout",
     "output_type": "stream",
     "text": [
      "CustomerID     C0001     C0002     C0003     C0004     C0005     C0006  \\\n",
      "CustomerID                                                               \n",
      "C0001       1.000000  0.987625  0.999974  0.999999  0.999988  0.975210   \n",
      "C0002       0.987625  1.000000  0.986463  0.987794  0.986831  0.928438   \n",
      "C0003       0.999974  0.986463  1.000000  0.999965  0.999997  0.976787   \n",
      "C0004       0.999999  0.987794  0.999965  1.000000  0.999982  0.974971   \n",
      "C0005       0.999988  0.986831  0.999997  0.999982  1.000000  0.976301   \n",
      "\n",
      "CustomerID     C0007     C0008     C0009     C0010  ...     C0191     C0192  \\\n",
      "CustomerID                                          ...                       \n",
      "C0001       0.992783  0.981957  0.953490  0.982319  ...  0.998677  0.993458   \n",
      "C0002       0.961689  0.999463  0.988964  0.999524  ...  0.994383  0.999074   \n",
      "C0003       0.993626  0.980562  0.951282  0.980937  ...  0.998278  0.992605   \n",
      "C0004       0.992653  0.982161  0.953814  0.982520  ...  0.998732  0.993581   \n",
      "C0005       0.993369  0.981002  0.951975  0.981373  ...  0.998408  0.992876   \n",
      "\n",
      "CustomerID     C0193     C0194     C0195     C0196     C0197     C0198  \\\n",
      "CustomerID                                                               \n",
      "C0001       0.998511  0.996205  0.999999  0.954119  0.999804  0.987655   \n",
      "C0002       0.977601  0.997527  0.987427  0.895352  0.990537  1.000000   \n",
      "C0003       0.998880  0.995549  0.999982  0.956263  0.999634  0.986495   \n",
      "C0004       0.998452  0.996298  0.999997  0.953796  0.999825  0.987824   \n",
      "C0005       0.998771  0.995759  0.999993  0.955601  0.999693  0.986862   \n",
      "\n",
      "CustomerID     C0199     C0200  \n",
      "CustomerID                      \n",
      "C0001       0.991120  0.985454  \n",
      "C0002       0.999709  0.946606  \n",
      "C0003       0.990131  0.986659  \n",
      "C0004       0.991263  0.985270  \n",
      "C0005       0.990445  0.986289  \n",
      "\n",
      "[5 rows x 200 columns]\n"
     ]
    }
   ],
   "source": [
    "# Compute Cosine Similarity\n",
    "from sklearn.metrics.pairwise import cosine_similarity\n",
    "import numpy as np\n",
    "\n",
    "# Compute similarity matrix\n",
    "customer_features = customer_profile[features].values\n",
    "similarity_matrix = cosine_similarity(customer_features)\n",
    "\n",
    "# Convert to a DataFrame for easier interpretation\n",
    "similarity_df = pd.DataFrame(similarity_matrix, index=customer_profile['CustomerID'], columns=customer_profile['CustomerID'])\n",
    "\n",
    "print(similarity_df.head())\n"
   ]
  },
  {
   "cell_type": "code",
   "execution_count": null,
   "id": "75a94e41-36be-4db4-bae1-b5a400a2c7dc",
   "metadata": {},
   "outputs": [],
   "source": []
  }
 ],
 "metadata": {
  "kernelspec": {
   "display_name": "Python 3 (ipykernel)",
   "language": "python",
   "name": "python3"
  },
  "language_info": {
   "codemirror_mode": {
    "name": "ipython",
    "version": 3
   },
   "file_extension": ".py",
   "mimetype": "text/x-python",
   "name": "python",
   "nbconvert_exporter": "python",
   "pygments_lexer": "ipython3",
   "version": "3.10.6"
  }
 },
 "nbformat": 4,
 "nbformat_minor": 5
}
